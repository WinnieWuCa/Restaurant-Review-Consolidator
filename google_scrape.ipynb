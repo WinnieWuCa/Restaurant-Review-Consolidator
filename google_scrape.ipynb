{
 "cells": [
  {
   "cell_type": "code",
   "execution_count": 1,
   "metadata": {},
   "outputs": [],
   "source": [
    "from splinter import Browser\n",
    "from bs4 import BeautifulSoup\n",
    "import os\n",
    "import pymongo"
   ]
  },
  {
   "cell_type": "code",
   "execution_count": 2,
   "metadata": {},
   "outputs": [],
   "source": [
    "chrome_driver_path = os.path.abspath(r\"C:\\Users\\Haneul Kim\\Desktop\\chromedriver.exe\")\n",
    "executable_path = {'executable_path': chrome_driver_path}\n",
    "browser = Browser('chrome', **executable_path, headless=False)\n",
    "url = \"https://google.com\"\n",
    "browser.visit(url)\n"
   ]
  },
  {
   "cell_type": "code",
   "execution_count": 3,
   "metadata": {},
   "outputs": [
    {
     "name": "stdout",
     "output_type": "stream",
     "text": [
      "Restaurants in ? Toronto\n"
     ]
    }
   ],
   "source": [
    "# let user input city they want to find best restaurants in\n",
    "user_input = input(\"Restaurants in ? \")\n",
    "search = \"restaurants in \" + user_input"
   ]
  },
  {
   "cell_type": "code",
   "execution_count": 5,
   "metadata": {},
   "outputs": [],
   "source": [
    "browser.fill('q', search)\n",
    "button = browser.find_by_name('btnK')\n",
    "button.click()"
   ]
  },
  {
   "cell_type": "code",
   "execution_count": 6,
   "metadata": {},
   "outputs": [],
   "source": [
    "# click more places button to get full list of restaurants\n",
    "button = '//*[@id=\"rso\"]/div[1]/div/div/div[2]/div/div[4]/div[2]/div/div/a/div/span'\n",
    "browser.find_by_xpath(button).click()"
   ]
  },
  {
   "cell_type": "code",
   "execution_count": 21,
   "metadata": {},
   "outputs": [
    {
     "name": "stdout",
     "output_type": "stream",
     "text": [
      "Ads, skip it\n",
      "Ads, skip it\n",
      "Piano Piano Restaurant 4.4 88 Harbord St $$$\n",
      "RASA 4.6 196 Robert St $$\n",
      "Fresh on Bloor 4.4 326 Bloor St W $$\n",
      "Grasshopper Cafe 4.2 310 College St $$\n",
      "Canoe 4.4 66 Wellington St W $$$$\n",
      "Byblos 4.5 11 Duncan St $$$\n",
      "Trattoria Fieramosca 4.5 36 A Prince Arthur Ave $$$\n",
      "Opus Restaurant 4.5 37 Prince Arthur Ave $$$$\n",
      "Grey Gardens 4.6 199 Augusta Ave $$$\n",
      "Planta Yorkville 4.3 1221 Bay St $$$\n",
      "Miku Toronto 4.5 10 Bay St # 105 $$$$\n",
      "Joso's 4.7 202 Davenport Rd $$$$\n",
      "Carisma 4.5 15 Toronto St $$$$\n",
      "Brothers Food and Wine 4.4 1240 Bay St $$\n",
      "Yasu 4.7 81 Harbord St $$$$\n",
      "Blu Ristorante 4.4 17 Yorkville Ave $$$\n",
      "The Elm Tree Restaurant 4.3 43 Elm St $$\n",
      "La Palma 4.4 849 Dundas St W $$$\n",
      "Chiado 4.6 864 College St $$$$\n",
      "Insomnia 4.3 563 Bloor St W $$\n"
     ]
    }
   ],
   "source": [
    "def data_scrape():\n",
    "    # copy new html\n",
    "    html = browser.html\n",
    "    soup = BeautifulSoup(html, \"html.parser\")\n",
    "\n",
    "    # x = soup.find(\"div\", class_=\"cXedhc uQ4NLd\")\n",
    "    # x.find_all(\"span\")\n",
    "    # get all tags for each restaurant box\n",
    "    results = soup.find_all(\"div\", class_=\"cXedhc uQ4NLd\")\n",
    "\n",
    "    for result in results: \n",
    "\n",
    "        if not result.find('span', class_='Z98Wse'):\n",
    "            #code for not add\n",
    "            rest_title = result.find(\"div\", class_=\"dbg0pd\").div.text\n",
    "            rating = result.find(\"span\", class_=\"BTtC6e\").text\n",
    "\n",
    "            # for dollar sign\n",
    "            another_result = result.find('span', class_='rllt__details')\n",
    "            price_loc = another_result.find_all('span')\n",
    "            location = price_loc[4].text\n",
    "            price = price_loc[3].text\n",
    "\n",
    "            print(rest_title, rating,location, price)\n",
    "\n",
    "        # checking to see if it is an ad.  \n",
    "        else:\n",
    "            print('Ads, skip it')\n",
    "data_scrape()"
   ]
  },
  {
   "cell_type": "code",
   "execution_count": null,
   "metadata": {},
   "outputs": [],
   "source": [
    "# getting dollar sign\n",
    "x = soup.find_all('span', class_='rllt__details')\n",
    "for restaurant in x: \n",
    "    b = restaurant.find_all('span')\n",
    "    print(b[-3])"
   ]
  },
  {
   "cell_type": "code",
   "execution_count": null,
   "metadata": {},
   "outputs": [],
   "source": []
  }
 ],
 "metadata": {
  "kernelspec": {
   "display_name": "Python 3",
   "language": "python",
   "name": "python3"
  },
  "language_info": {
   "codemirror_mode": {
    "name": "ipython",
    "version": 3
   },
   "file_extension": ".py",
   "mimetype": "text/x-python",
   "name": "python",
   "nbconvert_exporter": "python",
   "pygments_lexer": "ipython3",
   "version": "3.7.1"
  }
 },
 "nbformat": 4,
 "nbformat_minor": 2
}
