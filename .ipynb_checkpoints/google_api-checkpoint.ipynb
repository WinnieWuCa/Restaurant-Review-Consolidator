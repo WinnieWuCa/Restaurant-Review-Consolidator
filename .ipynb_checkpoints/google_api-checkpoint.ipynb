{
 "cells": [
  {
   "cell_type": "code",
   "execution_count": 1,
   "metadata": {},
   "outputs": [],
   "source": [
    "import requests, json\n",
    "import pandas as pd\n",
    "from config import google_key\n",
    "from pprint import pprint\n",
    "import time"
   ]
  },
  {
   "cell_type": "code",
   "execution_count": 2,
   "metadata": {},
   "outputs": [],
   "source": [
    "location = []\n",
    "price = []\n",
    "name=[]\n",
    "rating = []\n",
    "def append_to_list(*args):\n",
    "    for result in args:\n",
    "        for item in result[\"results\"]:\n",
    "            name.append(item[\"name\"])\n",
    "            rating.append(item[\"rating\"])\n",
    "            location.append(item[\"vicinity\"])\n",
    "            try:\n",
    "                price.append(item[\"price_level\"])\n",
    "            except:\n",
    "                price.append(None)\n",
    "    return name,price, rating, location"
   ]
  },
  {
   "cell_type": "code",
   "execution_count": 3,
   "metadata": {
    "scrolled": true
   },
   "outputs": [],
   "source": [
    "# get geocode of Toronto\n",
    "geocode_base_url = \"https://maps.googleapis.com/maps/api/geocode/json?\"\n",
    "city = \"Toronto\"\n",
    "parameters = {\n",
    "    \"address\": city,\n",
    "    \"key\":google_key\n",
    "}\n",
    "geo_results = requests.get(geocode_base_url, parameters).json()\n",
    "lat = geo_results['results'][0]['geometry']['location']['lat']\n",
    "lng = geo_results['results'][0]['geometry']['location']['lng']\n",
    "\n",
    "\n",
    "# update paremeters\n",
    "parameters[\"location\"]= f\"{lat},{lng}\"\n",
    "parameters[\"type\"] = \"restaurant\"\n",
    "parameters[\"radius\"] = \"30000\"\n",
    "\n",
    "# With geocode find restaurants in toronto, only give me 20 so use token to get further.\n",
    "nearby_search_base_url = \"https://maps.googleapis.com/maps/api/place/nearbysearch/json?\"\n",
    "first_results = requests.get(nearby_search_base_url, parameters).json()"
   ]
  },
  {
   "cell_type": "code",
   "execution_count": 4,
   "metadata": {},
   "outputs": [],
   "source": [
    "time.sleep(3)\n",
    "# wnd page:Getting next 20 results using token\n",
    "parameters[\"pagetoken\"] = first_results[\"next_page_token\"]\n",
    "second_results = requests.get(nearby_search_base_url,parameters).json()\n"
   ]
  },
  {
   "cell_type": "code",
   "execution_count": 5,
   "metadata": {},
   "outputs": [],
   "source": [
    "time.sleep(3)\n",
    "# 3rd page using next_page_token\n",
    "parameters[\"pagetoken\"] = second_results[\"next_page_token\"]\n",
    "third_results = requests.get(nearby_search_base_url,parameters).json()\n",
    "name,price, rating, location = append_to_list(first_results, second_results, third_results)"
   ]
  },
  {
   "cell_type": "code",
   "execution_count": 6,
   "metadata": {},
   "outputs": [
    {
     "name": "stdout",
     "output_type": "stream",
     "text": [
      "More details not available\n",
      "More details not available\n",
      "More details not available\n",
      "More details not available\n",
      "More details not available\n",
      "More details not available\n",
      "More details not available\n",
      "More details not available\n",
      "More details not available\n",
      "More details not available\n",
      "More details not available\n",
      "More details not available\n",
      "More details not available\n",
      "More details not available\n",
      "More details not available\n",
      "More details not available\n",
      "More details not available\n",
      "More details not available\n"
     ]
    }
   ],
   "source": [
    "price_level = []\n",
    "phone_number = []\n",
    "for restaurant in name:\n",
    "    # use separate parameter dictionary b.c. findplace and findplacedetail have diff field.\n",
    "    find_place_param ={}\n",
    "    find_place_param[\"input\"] = restaurant\n",
    "    find_place_param[\"inputtype\"] = \"textquery\"\n",
    "    find_place_param[\"key\"] = google_key\n",
    "    find_place_url = \"https://maps.googleapis.com/maps/api/place/findplacefromtext/json?\"\n",
    "    # get place_id then use it to get more detailed info (phone_number)\n",
    "    a = requests.get(find_place_url, find_place_param).json()\n",
    "    \n",
    "    # adding it to original parameter. since only this and findplace parameter has to be different b.c. overlapping field.\n",
    "    try:\n",
    "        parameters[\"place_id\"] = a[\"candidates\"][0][\"place_id\"]\n",
    "        \n",
    "    except:\n",
    "        print(\"More details not available\")\n",
    "        phone_number.append(None)\n",
    "        price_level.append(None)\n",
    "        \n",
    "    # executed only if try works.     \n",
    "    else:\n",
    "        # passing in fields of our interest\n",
    "        parameters[\"fields\"] = \"name,price_level,formatted_phone_number\"\n",
    "        find_place_detail_url =\"https://maps.googleapis.com/maps/api/place/details/json?\"\n",
    "        b = requests.get(find_place_detail_url, parameters).json()\n",
    "        # even if place_id is found and called succesfuly some do not have phone number      \n",
    "        try:\n",
    "            phone_number.append(b[\"result\"][\"formatted_phone_number\"])\n",
    "        except KeyError:\n",
    "            phone_number.append(None)\n",
    "        try:\n",
    "            price_level.append(b[\"result\"]['price_level'])\n",
    "        except KeyError:\n",
    "            price_level.append(None)\n",
    "            \n",
    "        # Q: is it a good practice to do try except multiple times?         "
   ]
  },
  {
   "cell_type": "code",
   "execution_count": 7,
   "metadata": {},
   "outputs": [
    {
     "name": "stdout",
     "output_type": "stream",
     "text": [
      "60 60 60 60 60 60\n"
     ]
    }
   ],
   "source": [
    "# just checking to see if all list have same number of items.\n",
    "print(len(name),\n",
    "     len(rating),\n",
    "     len(location),\n",
    "     len(price),\n",
    "     len(price_level),\n",
    "     len(phone_number))"
   ]
  },
  {
   "cell_type": "code",
   "execution_count": 8,
   "metadata": {},
   "outputs": [],
   "source": [
    "# Create data frame with created lists\n",
    "df = pd.DataFrame({\"name\":name,\n",
    "                  \"rating\":rating,\n",
    "                  \"address\":location,\n",
    "                  \"price_1\":price,\n",
    "                  \"price_2\":price_level})\n",
    "df = df.loc[df[\"rating\"]>4.0]"
   ]
  },
  {
   "cell_type": "code",
   "execution_count": 11,
   "metadata": {
    "scrolled": true
   },
   "outputs": [
    {
     "data": {
      "text/html": [
       "<div>\n",
       "<style scoped>\n",
       "    .dataframe tbody tr th:only-of-type {\n",
       "        vertical-align: middle;\n",
       "    }\n",
       "\n",
       "    .dataframe tbody tr th {\n",
       "        vertical-align: top;\n",
       "    }\n",
       "\n",
       "    .dataframe thead th {\n",
       "        text-align: right;\n",
       "    }\n",
       "</style>\n",
       "<table border=\"1\" class=\"dataframe\">\n",
       "  <thead>\n",
       "    <tr style=\"text-align: right;\">\n",
       "      <th></th>\n",
       "      <th>name</th>\n",
       "      <th>rating</th>\n",
       "      <th>address</th>\n",
       "      <th>price_1</th>\n",
       "      <th>price_2</th>\n",
       "    </tr>\n",
       "  </thead>\n",
       "  <tbody>\n",
       "    <tr>\n",
       "      <th>0</th>\n",
       "      <td>The Rex Hotel Jazz and Blues Bar</td>\n",
       "      <td>4.4</td>\n",
       "      <td>194 Queen Street West, Toronto</td>\n",
       "      <td>3.0</td>\n",
       "      <td>3.0</td>\n",
       "    </tr>\n",
       "    <tr>\n",
       "      <th>1</th>\n",
       "      <td>Hotel Novotel Toronto Centre</td>\n",
       "      <td>4.2</td>\n",
       "      <td>45 The Esplanade, Toronto</td>\n",
       "      <td>NaN</td>\n",
       "      <td>NaN</td>\n",
       "    </tr>\n",
       "    <tr>\n",
       "      <th>2</th>\n",
       "      <td>HOTEL OCHO</td>\n",
       "      <td>4.3</td>\n",
       "      <td>195 Spadina Avenue, Toronto</td>\n",
       "      <td>NaN</td>\n",
       "      <td>NaN</td>\n",
       "    </tr>\n",
       "    <tr>\n",
       "      <th>4</th>\n",
       "      <td>Gladstone Hotel</td>\n",
       "      <td>4.3</td>\n",
       "      <td>1214 Queen Street West, Toronto</td>\n",
       "      <td>NaN</td>\n",
       "      <td>NaN</td>\n",
       "    </tr>\n",
       "    <tr>\n",
       "      <th>8</th>\n",
       "      <td>Hotel Novotel Toronto Vaughan</td>\n",
       "      <td>4.2</td>\n",
       "      <td>200 Bass Pro Mills Drive, Concord</td>\n",
       "      <td>NaN</td>\n",
       "      <td>NaN</td>\n",
       "    </tr>\n",
       "  </tbody>\n",
       "</table>\n",
       "</div>"
      ],
      "text/plain": [
       "                               name  rating  \\\n",
       "0  The Rex Hotel Jazz and Blues Bar     4.4   \n",
       "1      Hotel Novotel Toronto Centre     4.2   \n",
       "2                        HOTEL OCHO     4.3   \n",
       "4                   Gladstone Hotel     4.3   \n",
       "8     Hotel Novotel Toronto Vaughan     4.2   \n",
       "\n",
       "                             address  price_1  price_2  \n",
       "0     194 Queen Street West, Toronto      3.0      3.0  \n",
       "1          45 The Esplanade, Toronto      NaN      NaN  \n",
       "2        195 Spadina Avenue, Toronto      NaN      NaN  \n",
       "4    1214 Queen Street West, Toronto      NaN      NaN  \n",
       "8  200 Bass Pro Mills Drive, Concord      NaN      NaN  "
      ]
     },
     "execution_count": 11,
     "metadata": {},
     "output_type": "execute_result"
    }
   ],
   "source": [
    "df.head()\n",
    "# len(df)"
   ]
  },
  {
   "cell_type": "code",
   "execution_count": 10,
   "metadata": {},
   "outputs": [
    {
     "data": {
      "text/plain": [
       "37"
      ]
     },
     "execution_count": 10,
     "metadata": {},
     "output_type": "execute_result"
    }
   ],
   "source": [
    "len(df.loc[df[\"rating\"] > 4.0])"
   ]
  },
  {
   "cell_type": "code",
   "execution_count": 12,
   "metadata": {},
   "outputs": [],
   "source": [
    "df.to_csv(\"datas/best_rest_toronto.csv\")"
   ]
  }
 ],
 "metadata": {
  "kernelspec": {
   "display_name": "Python 3",
   "language": "python",
   "name": "python3"
  },
  "language_info": {
   "codemirror_mode": {
    "name": "ipython",
    "version": 3
   },
   "file_extension": ".py",
   "mimetype": "text/x-python",
   "name": "python",
   "nbconvert_exporter": "python",
   "pygments_lexer": "ipython3",
   "version": "3.7.1"
  }
 },
 "nbformat": 4,
 "nbformat_minor": 2
}
